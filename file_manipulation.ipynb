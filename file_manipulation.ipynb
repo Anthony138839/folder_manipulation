{
 "cells": [
  {
   "cell_type": "markdown",
   "id": "6a28d2c3",
   "metadata": {},
   "source": [
    "**Importing Dependencies**"
   ]
  },
  {
   "cell_type": "code",
   "execution_count": 64,
   "id": "62348459",
   "metadata": {},
   "outputs": [],
   "source": [
    "import pandas as pd\n",
    "import numpy as np\n",
    "import matplotlib.image as mpimg\n",
    "import matplotlib.pyplot as plt\n",
    "import cv2\n",
    "import os\n",
    "from pathlib import Path"
   ]
  },
  {
   "cell_type": "code",
   "execution_count": 65,
   "id": "749021a2",
   "metadata": {},
   "outputs": [],
   "source": [
    "# Reading the folder path\n",
    "# folder = Path(r\"C:\\Users\\USER\\Pictures\\Saved Pictures\")\n",
    "folder = Path(input(r\"Pls enter the path of the folder you want to use for this project: \").strip().strip(\"'\").strip('\"'))\n",
    "new_folder =  Path(input(\"Pls enter the name of the new folder to save the images: \").strip())\n",
    "new_folder.mkdir(exist_ok=True)"
   ]
  },
  {
   "cell_type": "code",
   "execution_count": 66,
   "id": "71a7811a",
   "metadata": {},
   "outputs": [
    {
     "name": "stdout",
     "output_type": "stream",
     "text": [
      "<class 'pathlib.WindowsPath'>\n"
     ]
    }
   ],
   "source": [
    "print(type(folder))"
   ]
  },
  {
   "cell_type": "code",
   "execution_count": 67,
   "id": "723b34d3",
   "metadata": {},
   "outputs": [
    {
     "name": "stdout",
     "output_type": "stream",
     "text": [
      "1145728.jpg\n",
      "1145746.jpg\n",
      "1689423384360.jpg\n",
      "1689423393969.jpg\n",
      "2415294.jpg\n",
      "2882562.jpg\n",
      "3262301.jpg\n",
      "3996618.jpg\n",
      "3996619.jpg\n",
      "421006.jpg\n",
      "5093967.jpg\n",
      "53440.jpg\n",
      "53446.jpg\n",
      "53447.jpg\n",
      "53459.jpg\n",
      "53460.png\n",
      "53464.jpg\n",
      "53465.jpg\n",
      "83106.jpg\n",
      "banner.jpg\n",
      "black-car-wallpaper-preview.jpg\n",
      "desktop.ini\n",
      "download.jpeg\n",
      "eve-1.jpg\n",
      "eve-2.jpg\n",
      "eve-3.jpg\n",
      "FB_IMG_1671772917259.jpg\n",
      "firework-1.gif\n",
      "imagenes_f3osnkx8.gif\n",
      "img_lights_wide.jpg\n",
      "img_mountains_wide.jpg\n",
      "img_nature_wide.jpg\n",
      "img_snow_wide.jpg\n",
      "instagram icon.jpg\n",
      "like-blue.png\n",
      "live-video.png\n",
      "map.jpg\n",
      "menu.png.png\n",
      "message.png\n",
      "more.png\n",
      "OIP (1).jpeg\n",
      "OIP (2).jpeg\n",
      "OIP.jpeg\n",
      "photo.png\n",
      "PHY 102 1ST TEST 2023.jpg\n",
      "PHY 103 1ST TEST 2023.jpg\n",
      "R.jpeg\n",
      "status-3.png\n",
      "table tennis.jpeg\n",
      "team1.jpg\n",
      "team2.jpg\n",
      "team3.jpg\n",
      "team4.jpg\n",
      "Ticketing-event.png\n",
      "twitter icon.jpg\n",
      "video-bg.jpg\n"
     ]
    }
   ],
   "source": [
    "# Looping through the files in the folder\n",
    "for item in folder.iterdir():\n",
    "    print(item.name)"
   ]
  },
  {
   "cell_type": "code",
   "execution_count": 68,
   "id": "359de9aa",
   "metadata": {},
   "outputs": [
    {
     "name": "stdout",
     "output_type": "stream",
     "text": [
      "Images saved successfully in new folder\\1145728.jpg\n",
      "Images saved successfully in new folder\\1145746.jpg\n",
      "Images saved successfully in new folder\\1689423384360.jpg\n",
      "Images saved successfully in new folder\\1689423393969.jpg\n",
      "Images saved successfully in new folder\\2415294.jpg\n",
      "Images saved successfully in new folder\\2882562.jpg\n",
      "Images saved successfully in new folder\\3262301.jpg\n",
      "Images saved successfully in new folder\\3996618.jpg\n",
      "Images saved successfully in new folder\\3996619.jpg\n",
      "Images saved successfully in new folder\\421006.jpg\n",
      "Images saved successfully in new folder\\5093967.jpg\n",
      "Images saved successfully in new folder\\53440.jpg\n",
      "Images saved successfully in new folder\\53446.jpg\n",
      "Images saved successfully in new folder\\53447.jpg\n",
      "Images saved successfully in new folder\\53459.jpg\n",
      "Images saved successfully in new folder\\53460.png\n",
      "Images saved successfully in new folder\\53464.jpg\n",
      "Images saved successfully in new folder\\53465.jpg\n",
      "Images saved successfully in new folder\\83106.jpg\n",
      "Images saved successfully in new folder\\banner.jpg\n",
      "Images saved successfully in new folder\\black-car-wallpaper-preview.jpg\n",
      "Images saved successfully in new folder\\download.jpeg\n",
      "Images saved successfully in new folder\\eve-1.jpg\n",
      "Images saved successfully in new folder\\eve-2.jpg\n",
      "Images saved successfully in new folder\\eve-3.jpg\n",
      "Images saved successfully in new folder\\FB_IMG_1671772917259.jpg\n",
      "Images saved successfully in new folder\\img_lights_wide.jpg\n",
      "Images saved successfully in new folder\\img_mountains_wide.jpg\n",
      "Images saved successfully in new folder\\img_nature_wide.jpg\n",
      "Images saved successfully in new folder\\img_snow_wide.jpg\n",
      "Images saved successfully in new folder\\instagram icon.jpg\n",
      "Images saved successfully in new folder\\like-blue.png\n",
      "Images saved successfully in new folder\\live-video.png\n",
      "Images saved successfully in new folder\\map.jpg\n",
      "Images saved successfully in new folder\\menu.png.png\n",
      "Images saved successfully in new folder\\message.png\n",
      "Images saved successfully in new folder\\more.png\n",
      "Images saved successfully in new folder\\OIP (1).jpeg\n",
      "Images saved successfully in new folder\\OIP (2).jpeg\n",
      "Images saved successfully in new folder\\OIP.jpeg\n",
      "Images saved successfully in new folder\\photo.png\n",
      "Images saved successfully in new folder\\PHY 102 1ST TEST 2023.jpg\n",
      "Images saved successfully in new folder\\PHY 103 1ST TEST 2023.jpg\n",
      "Images saved successfully in new folder\\R.jpeg\n",
      "Images saved successfully in new folder\\status-3.png\n",
      "Images saved successfully in new folder\\table tennis.jpeg\n",
      "Images saved successfully in new folder\\team1.jpg\n",
      "Images saved successfully in new folder\\team2.jpg\n",
      "Images saved successfully in new folder\\team3.jpg\n",
      "Images saved successfully in new folder\\team4.jpg\n",
      "Images saved successfully in new folder\\Ticketing-event.png\n",
      "Images saved successfully in new folder\\twitter icon.jpg\n",
      "Images saved successfully in new folder\\video-bg.jpg\n"
     ]
    }
   ],
   "source": [
    "# Changing the colors of the images in the folder\n",
    "# color_list = []\n",
    "for img in folder.iterdir():\n",
    "    if img.is_file() and img.suffix.lower() in [\".jpg\", \".jpeg\", \".png\"]:\n",
    "        images = cv2.imread(str(img))\n",
    "        grayscale_img = cv2.cvtColor(images, cv2.COLOR_BGR2GRAY)\n",
    "        # color_list.append(grayscale_img.shape)\n",
    "        save_path = new_folder/img.name\n",
    "        success = cv2.imwrite(str(save_path), grayscale_img)\n",
    "        \n",
    "        if success:\n",
    "            print(f\"Images saved successfully in {save_path}\")\n",
    "        else:\n",
    "            print(\"Failed to save image. Pls check the source or path\")\n",
    "# print(color_list[1])"
   ]
  }
 ],
 "metadata": {
  "kernelspec": {
   "display_name": "Python 3",
   "language": "python",
   "name": "python3"
  },
  "language_info": {
   "codemirror_mode": {
    "name": "ipython",
    "version": 3
   },
   "file_extension": ".py",
   "mimetype": "text/x-python",
   "name": "python",
   "nbconvert_exporter": "python",
   "pygments_lexer": "ipython3",
   "version": "3.10.0"
  }
 },
 "nbformat": 4,
 "nbformat_minor": 5
}
